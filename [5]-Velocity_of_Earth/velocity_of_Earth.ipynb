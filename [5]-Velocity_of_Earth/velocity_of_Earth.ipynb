{
 "cells": [
  {
   "cell_type": "code",
   "execution_count": 1,
   "metadata": {},
   "outputs": [
    {
     "name": "stdout",
     "output_type": "stream",
     "text": [
      "[-4.31330649e+06 -1.51948941e+08  8.03332259e+03  2.92879558e+01\n",
      " -9.69353767e-01 -4.70935419e-04]\n"
     ]
    }
   ],
   "source": [
    "import spiceypy\n",
    "import datetime\n",
    "\n",
    "date_today = datetime.datetime.today()\n",
    "date_today = date_today.strftime(\"%Y-%m-%dT00:00:00\")\n",
    "\n",
    "spiceypy.furnsh(\"/workspaces/Space-Science-Projects/kernels/lsk/naif0012.tls\")\n",
    "spiceypy.furnsh(\"/workspaces/Space-Science-Projects/kernels/spk/de432s.bsp\")\n",
    "\n",
    "et_today_midnight = spiceypy.utc2et(date_today)\n",
    "\n",
    "earth_state_wrt_sun, earth_sun_light_time = spiceypy.spkgeo(targ=399, et=et_today_midnight, \n",
    "                                                            ref=\"ECLIPJ2000\", obs=10)\n",
    "print(earth_state_wrt_sun)\n"
   ]
  },
  {
   "cell_type": "code",
   "execution_count": 4,
   "metadata": {},
   "outputs": [
    {
     "name": "stdout",
     "output_type": "stream",
     "text": [
      "29.30399295790483\n"
     ]
    }
   ],
   "source": [
    "import numpy as np\n",
    "\n",
    "earth_state_wrt_sun = np.array(earth_state_wrt_sun)\n",
    "\n",
    "earth_sun_distance = np.linalg.norm(earth_state_wrt_sun[:3])\n",
    "\n",
    "earth_ord_speed_wrt_sun = np.linalg.norm(earth_state_wrt_sun[3:])\n",
    "print(earth_ord_speed_wrt_sun)"
   ]
  },
  {
   "cell_type": "code",
   "execution_count": 21,
   "metadata": {},
   "outputs": [
    {
     "name": "stdout",
     "output_type": "stream",
     "text": [
      "29.547417247038894\n"
     ]
    }
   ],
   "source": [
    "spiceypy.furnsh(\"/workspaces/Space-Science-Projects/kernels/pck/gm_de431.tpc\")\n",
    "_, GM_SUN = spiceypy.bodvcd(bodyid=10, item=\"GM\", maxn=1)\n",
    "\n",
    "v_orb_func = lambda gm, r: np.sqrt(gm/r)\n",
    "earth_orb_speed_wrt_sun_theory = v_orb_func(GM_SUN[0], earth_sun_distance)\n",
    "\n",
    "print(earth_orb_speed_wrt_sun_theory)"
   ]
  },
  {
   "cell_type": "code",
   "execution_count": 26,
   "metadata": {},
   "outputs": [],
   "source": [
    "earth_position_wrt_sun = earth_state_wrt_sun[:3]\n",
    "\n",
    "earth_position_wrt_sun_normed = earth_position_wrt_sun / earth_sun_distance\n",
    "\n",
    "earth_position_wrt_sun_normed_autumn = np.array([1.0, 0.0, 0.0])"
   ]
  },
  {
   "cell_type": "code",
   "execution_count": 27,
   "metadata": {},
   "outputs": [
    {
     "name": "stdout",
     "output_type": "stream",
     "text": [
      "91.62599296875821\n"
     ]
    }
   ],
   "source": [
    "ang_dist_deg = np.degrees(np.arccos(np.dot(earth_position_wrt_sun_normed, earth_position_wrt_sun_normed_autumn)))\n",
    "print(ang_dist_deg)"
   ]
  },
  {
   "cell_type": "code",
   "execution_count": null,
   "metadata": {},
   "outputs": [],
   "source": []
  }
 ],
 "metadata": {
  "kernelspec": {
   "display_name": "Python 3 (ipykernel)",
   "language": "python",
   "name": "python3"
  },
  "language_info": {
   "codemirror_mode": {
    "name": "ipython",
    "version": 3
   },
   "file_extension": ".py",
   "mimetype": "text/x-python",
   "name": "python",
   "nbconvert_exporter": "python",
   "pygments_lexer": "ipython3",
   "version": "3.9.13"
  },
  "orig_nbformat": 4
 },
 "nbformat": 4,
 "nbformat_minor": 2
}
