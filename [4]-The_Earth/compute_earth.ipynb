{
 "cells": [
  {
   "cell_type": "code",
   "execution_count": 2,
   "metadata": {},
   "outputs": [],
   "source": [
    "import spiceypy"
   ]
  },
  {
   "cell_type": "code",
   "execution_count": 19,
   "metadata": {},
   "outputs": [],
   "source": [
    "import datetime\n",
    "\n",
    "date_today = datetime.datetime.today()\n",
    "date_today = date_today.strftime(\"%Y-%m-%dT00:00:00\")"
   ]
  },
  {
   "cell_type": "code",
   "execution_count": 20,
   "metadata": {},
   "outputs": [
    {
     "name": "stdout",
     "output_type": "stream",
     "text": [
      "2022-06-18T00:00:00\n"
     ]
    }
   ],
   "source": [
    "print(date_today)"
   ]
  },
  {
   "cell_type": "code",
   "execution_count": 21,
   "metadata": {},
   "outputs": [],
   "source": [
    "spiceypy.furnsh(\"/workspaces/Space-Science-Projects/kernels/lsk/naif0012.tls\")\n",
    "spiceypy.furnsh(\"/workspaces/Space-Science-Projects/kernels/spk/de432s.bsp\")"
   ]
  },
  {
   "cell_type": "code",
   "execution_count": 22,
   "metadata": {},
   "outputs": [
    {
     "name": "stdout",
     "output_type": "stream",
     "text": [
      "708782469.1844795\n"
     ]
    }
   ],
   "source": [
    "et_today_midnight = spiceypy.utc2et(date_today)\n",
    "print(et_today_midnight)"
   ]
  },
  {
   "cell_type": "code",
   "execution_count": 23,
   "metadata": {},
   "outputs": [
    {
     "name": "stdout",
     "output_type": "stream",
     "text": [
      "[-9.37040821e+06 -1.51695970e+08  8.06399649e+03  2.92380055e+01\n",
      " -1.95789342e+00  1.27957018e-04]\n"
     ]
    }
   ],
   "source": [
    "earth_state_wrt_sun, earth_sun_light_time = spiceypy.spkgeo(targ=399, et=et_today_midnight, \n",
    "                                                            ref=\"ECLIPJ2000\", obs=10)\n",
    "print(earth_state_wrt_sun)"
   ]
  },
  {
   "cell_type": "code",
   "execution_count": 25,
   "metadata": {},
   "outputs": [
    {
     "name": "stdout",
     "output_type": "stream",
     "text": [
      "151985104.17188954\n"
     ]
    }
   ],
   "source": [
    "import math\n",
    "earth_sun_distance = math.sqrt(earth_state_wrt_sun[0] ** 2.0\n",
    "                                + earth_state_wrt_sun[1] ** 2.0\n",
    "                                + earth_state_wrt_sun[2] ** 2.0)\n",
    "print(earth_sun_distance)"
   ]
  },
  {
   "cell_type": "code",
   "execution_count": 28,
   "metadata": {},
   "outputs": [
    {
     "name": "stdout",
     "output_type": "stream",
     "text": [
      "1.0159576707102023\n"
     ]
    }
   ],
   "source": [
    "earth_sun_distance_au = spiceypy.convrt(earth_sun_distance, \"km\", \"au\")\n",
    "print(earth_sun_distance_au)"
   ]
  },
  {
   "cell_type": "code",
   "execution_count": 30,
   "metadata": {},
   "outputs": [
    {
     "name": "stdout",
     "output_type": "stream",
     "text": [
      "Distance between earth and sun Current : 151985104.17188954 km\n",
      "Distance between earth and sun Current : 1.0159576707102023 Au\n"
     ]
    }
   ],
   "source": [
    "# Final result\n",
    "print(f\"Distance between earth and sun Current : {earth_sun_distance} km\")\n",
    "print(f\"Distance between earth and sun Current : {earth_sun_distance_au} Au\")"
   ]
  },
  {
   "cell_type": "code",
   "execution_count": null,
   "metadata": {},
   "outputs": [],
   "source": []
  }
 ],
 "metadata": {
  "kernelspec": {
   "display_name": "Python 3 (ipykernel)",
   "language": "python",
   "name": "python3"
  },
  "language_info": {
   "codemirror_mode": {
    "name": "ipython",
    "version": 3
   },
   "file_extension": ".py",
   "mimetype": "text/x-python",
   "name": "python",
   "nbconvert_exporter": "python",
   "pygments_lexer": "ipython3",
   "version": "3.9.13"
  },
  "orig_nbformat": 4
 },
 "nbformat": 4,
 "nbformat_minor": 2
}
